{
 "cells": [
  {
   "cell_type": "code",
   "execution_count": 5,
   "id": "529db374-205d-46df-ba5d-239a64036dc8",
   "metadata": {},
   "outputs": [],
   "source": [
    "import requests\n",
    "import os\n",
    "\n",
    "GITHUB_TOKEN = \"INSERT_HERE_YOUR_ACCESS_TOKEN_😉\"\n",
    "\n",
    "headers = {\n",
    "    \"Authorization\": f\"Bearer {GITHUB_TOKEN}\",\n",
    "    \"Accept\": \"application/vnd.github+json\",\n",
    "    \"X-GitHub-Api-Version\": \"2022-11-28\"\n",
    "}"
   ]
  },
  {
   "cell_type": "code",
   "execution_count": 17,
   "id": "afc40bfe-aedd-4f1f-a5da-b4dcbae1bc03",
   "metadata": {},
   "outputs": [],
   "source": [
    "# LOOK FOR PUBLIC REPOSITORIES\n",
    "\n",
    "def search_repositories(query, per_page=10, page=1):\n",
    "    url = f\"https://api.github.com/search/repositories?q={query}&per_page={per_page}&page={page}\"\n",
    "    response = requests.get(url, headers=headers)\n",
    "    if response.status_code == 200:\n",
    "        return response.json()\n",
    "        print(\"Success\")\n",
    "    else:\n",
    "        print(f\"Error {response.status_code}: {response.text}\")\n",
    "        return None\n"
   ]
  },
  {
   "cell_type": "code",
   "execution_count": 23,
   "id": "44878959-cfa0-47a7-bf2d-74ac18a5162c",
   "metadata": {},
   "outputs": [
    {
     "name": "stdout",
     "output_type": "stream",
     "text": [
      "jakevdp/PythonDataScienceHandbook\n",
      "Success\n"
     ]
    }
   ],
   "source": [
    "data = search_repositories(\"data science\", per_page=5, page=1)\n",
    "print(data[\"items\"][0][\"full_name\"])"
   ]
  },
  {
   "cell_type": "code",
   "execution_count": 25,
   "id": "26f7d1d9-a65c-4f16-9119-3da0eb99b6dc",
   "metadata": {},
   "outputs": [],
   "source": [
    "# OBTAIN REPOSITORY CONTENT\n",
    "\n",
    "def get_commits(owner, repo, per_page=5, page=1):\n",
    "    url = f\"https://api.github.com/repos/{owner}/{repo}/commits?per_page={per_page}&page={page}\"\n",
    "    response = requests.get(url, headers=headers)\n",
    "    if response.status_code == 200:\n",
    "        return response.json()\n",
    "    else:\n",
    "        print(f\"Error {response.status_code}: {response.text}\")\n",
    "        return None"
   ]
  },
  {
   "cell_type": "code",
   "execution_count": 27,
   "id": "0a4de544-67f5-4367-bb9d-32a64b0b3455",
   "metadata": {},
   "outputs": [
    {
     "name": "stdout",
     "output_type": "stream",
     "text": [
      "WEB: Reorganization of the Ecosystem page (#61657)\n",
      "\n",
      "* WEB: Reorganization of the Ecosystem page\n",
      "\n",
      "* Changing subtitle level of packages\n",
      "\n",
      "* Add back part of the intro\n",
      "ENH: Support for Orthodox Easter (#61666)\n",
      "\n",
      "* Support for Orthodox Easter\n",
      "\n",
      "* Fix lint issues\n",
      "\n",
      "* Fix test\n",
      "\n",
      "* Fix lint\n",
      "\n",
      "* Fix lint issues\n",
      "\n",
      "* Fix lint\n",
      "\n",
      "* Fix lint\n",
      "\n",
      "* Fix lint\n",
      "\n",
      "* Fix lint\n",
      "\n",
      "* Fix\n",
      "\n",
      "* Updated whats new doc\n",
      "\n",
      "* Add validation\n",
      "\n",
      "* Fix review feedback\n",
      "\n",
      "* Fix lint\n",
      "fix std/var with complex array (#61646)\n",
      "\n",
      "* fix std/var with complex array\n",
      "\n",
      "* added whatsnew entry\n"
     ]
    }
   ],
   "source": [
    "commits = get_commits(\"pandas-dev\", \"pandas\", per_page=3)\n",
    "for c in commits:\n",
    "    print(c[\"commit\"][\"message\"])"
   ]
  },
  {
   "cell_type": "code",
   "execution_count": 31,
   "id": "cd49a450-54bc-46bb-9b07-cfb562339646",
   "metadata": {},
   "outputs": [],
   "source": [
    "# LIST CONTENT FORM A REPOSITORY\n",
    "\n",
    "def get_repo_contents(owner, repo, path=\"\"):\n",
    "    url = f\"https://api.github.com/repos/{owner}/{repo}/contents/{path}\"\n",
    "    response = requests.get(url, headers=headers)\n",
    "    if response.status_code == 200:\n",
    "        return response.json()\n",
    "    else:\n",
    "        print(f\"Error {response.status_code}: {response.text}\")\n",
    "        return None"
   ]
  },
  {
   "cell_type": "code",
   "execution_count": 33,
   "id": "1a4f30e0-3bdc-4bd6-946f-7632eee52a73",
   "metadata": {},
   "outputs": [
    {
     "name": "stdout",
     "output_type": "stream",
     "text": [
      ".devcontainer.json - file\n",
      ".gitattributes - file\n",
      ".github - dir\n",
      ".gitignore - file\n",
      ".gitpod.yml - file\n",
      ".pre-commit-config.yaml - file\n",
      "AUTHORS.md - file\n",
      "CITATION.cff - file\n",
      "Dockerfile - file\n",
      "LICENSE - file\n",
      "LICENSES - dir\n",
      "MANIFEST.in - file\n",
      "README.md - file\n",
      "asv_bench - dir\n",
      "ci - dir\n",
      "codecov.yml - file\n",
      "doc - dir\n",
      "environment.yml - file\n",
      "generate_pxi.py - file\n",
      "generate_version.py - file\n",
      "gitpod - dir\n",
      "meson.build - file\n",
      "pandas - dir\n",
      "pyproject.toml - file\n",
      "pyright_reportGeneralTypeIssues.json - file\n",
      "requirements-dev.txt - file\n",
      "scripts - dir\n",
      "setup.py - file\n",
      "tooling - dir\n",
      "typings - dir\n",
      "web - dir\n"
     ]
    }
   ],
   "source": [
    "contents = get_repo_contents(\"pandas-dev\", \"pandas\")\n",
    "for item in contents:\n",
    "    print(f\"{item['name']} - {item['type']}\")"
   ]
  },
  {
   "cell_type": "code",
   "execution_count": null,
   "id": "ec325ea0-b7ff-4d4f-b58e-29475774c54b",
   "metadata": {},
   "outputs": [],
   "source": []
  }
 ],
 "metadata": {
  "kernelspec": {
   "display_name": "Python 3 (ipykernel)",
   "language": "python",
   "name": "python3"
  },
  "language_info": {
   "codemirror_mode": {
    "name": "ipython",
    "version": 3
   },
   "file_extension": ".py",
   "mimetype": "text/x-python",
   "name": "python",
   "nbconvert_exporter": "python",
   "pygments_lexer": "ipython3",
   "version": "3.12.2"
  }
 },
 "nbformat": 4,
 "nbformat_minor": 5
}
